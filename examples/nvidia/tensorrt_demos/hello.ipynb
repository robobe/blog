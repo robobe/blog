{
 "cells": [
  {
   "cell_type": "code",
   "execution_count": 3,
   "metadata": {},
   "outputs": [],
   "source": [
    "import pycuda.driver as cuda\n",
    "import pycuda.autoinit\n",
    "import numpy as np\n",
    "import tensorrt as trt\n",
    "import cv2"
   ]
  },
  {
   "cell_type": "code",
   "execution_count": 11,
   "metadata": {},
   "outputs": [],
   "source": [
    "TRT_LOGGER = trt.Logger()\n",
    "\n",
    "\n",
    "def build_engine(onnx_file_path):\n",
    "    builder = trt.Builder(TRT_LOGGER)\n",
    "    network = builder.create_network()\n",
    "    parser = trt.OnnxParser(network, TRT_LOGGER)\n",
    "    with open(onnx_file_path, \"rb\") as model:\n",
    "        print(\"Beginning ONNX file parsing\")\n",
    "        parser.parse(model.read())\n",
    "        print(\"Completed parsing of ONNX file\")\n",
    "    builder.max_batch_size = 1\n",
    "    engine = builder.build_cuda_engine(network)\n",
    "    context = engine.create_execution_context()\n",
    "    return engine, context\n"
   ]
  },
  {
   "cell_type": "code",
   "execution_count": 13,
   "metadata": {},
   "outputs": [
    {
     "name": "stdout",
     "output_type": "stream",
     "text": [
      "Beginning ONNX file parsing\n",
      "Completed parsing of ONNX file\n"
     ]
    },
    {
     "ename": "AttributeError",
     "evalue": "'tensorrt.tensorrt.Builder' object has no attribute 'build_cuda_engine'",
     "output_type": "error",
     "traceback": [
      "\u001b[0;31m---------------------------------------------------------------------------\u001b[0m",
      "\u001b[0;31mAttributeError\u001b[0m                            Traceback (most recent call last)",
      "\u001b[0;32m/tmp/ipykernel_24961/1994457324.py\u001b[0m in \u001b[0;36m<module>\u001b[0;34m\u001b[0m\n\u001b[1;32m      3\u001b[0m )\n\u001b[1;32m      4\u001b[0m \u001b[0mIMAGE_PATH\u001b[0m \u001b[0;34m=\u001b[0m \u001b[0;34m\"/home/user/projects/blog/examples/nvidia/tensorrt_demos/turkish_coffee.jpg\"\u001b[0m\u001b[0;34m\u001b[0m\u001b[0;34m\u001b[0m\u001b[0m\n\u001b[0;32m----> 5\u001b[0;31m \u001b[0mengine\u001b[0m\u001b[0;34m,\u001b[0m \u001b[0mcontext\u001b[0m \u001b[0;34m=\u001b[0m \u001b[0mbuild_engine\u001b[0m\u001b[0;34m(\u001b[0m\u001b[0mONNX_FILE_PATH\u001b[0m\u001b[0;34m)\u001b[0m\u001b[0;34m\u001b[0m\u001b[0;34m\u001b[0m\u001b[0m\n\u001b[0m\u001b[1;32m      6\u001b[0m \u001b[0;32mfor\u001b[0m \u001b[0mbinding\u001b[0m \u001b[0;32min\u001b[0m \u001b[0mengine\u001b[0m\u001b[0;34m:\u001b[0m\u001b[0;34m\u001b[0m\u001b[0;34m\u001b[0m\u001b[0m\n\u001b[1;32m      7\u001b[0m     \u001b[0;32mif\u001b[0m \u001b[0mengine\u001b[0m\u001b[0;34m.\u001b[0m\u001b[0mbinding_is_input\u001b[0m\u001b[0;34m(\u001b[0m\u001b[0mbinding\u001b[0m\u001b[0;34m)\u001b[0m\u001b[0;34m:\u001b[0m\u001b[0;34m\u001b[0m\u001b[0;34m\u001b[0m\u001b[0m\n",
      "\u001b[0;32m/tmp/ipykernel_24961/855384353.py\u001b[0m in \u001b[0;36mbuild_engine\u001b[0;34m(onnx_file_path)\u001b[0m\n\u001b[1;32m     11\u001b[0m         \u001b[0mprint\u001b[0m\u001b[0;34m(\u001b[0m\u001b[0;34m\"Completed parsing of ONNX file\"\u001b[0m\u001b[0;34m)\u001b[0m\u001b[0;34m\u001b[0m\u001b[0;34m\u001b[0m\u001b[0m\n\u001b[1;32m     12\u001b[0m     \u001b[0mbuilder\u001b[0m\u001b[0;34m.\u001b[0m\u001b[0mmax_batch_size\u001b[0m \u001b[0;34m=\u001b[0m \u001b[0;36m1\u001b[0m\u001b[0;34m\u001b[0m\u001b[0;34m\u001b[0m\u001b[0m\n\u001b[0;32m---> 13\u001b[0;31m     \u001b[0mengine\u001b[0m \u001b[0;34m=\u001b[0m \u001b[0mbuilder\u001b[0m\u001b[0;34m.\u001b[0m\u001b[0mbuild_cuda_engine\u001b[0m\u001b[0;34m(\u001b[0m\u001b[0mnetwork\u001b[0m\u001b[0;34m)\u001b[0m\u001b[0;34m\u001b[0m\u001b[0;34m\u001b[0m\u001b[0m\n\u001b[0m\u001b[1;32m     14\u001b[0m     \u001b[0mcontext\u001b[0m \u001b[0;34m=\u001b[0m \u001b[0mengine\u001b[0m\u001b[0;34m.\u001b[0m\u001b[0mcreate_execution_context\u001b[0m\u001b[0;34m(\u001b[0m\u001b[0;34m)\u001b[0m\u001b[0;34m\u001b[0m\u001b[0;34m\u001b[0m\u001b[0m\n\u001b[1;32m     15\u001b[0m     \u001b[0;32mreturn\u001b[0m \u001b[0mengine\u001b[0m\u001b[0;34m,\u001b[0m \u001b[0mcontext\u001b[0m\u001b[0;34m\u001b[0m\u001b[0;34m\u001b[0m\u001b[0m\n",
      "\u001b[0;31mAttributeError\u001b[0m: 'tensorrt.tensorrt.Builder' object has no attribute 'build_cuda_engine'"
     ]
    }
   ],
   "source": [
    "ONNX_FILE_PATH = (\n",
    "    \"/home/user/projects/blog/examples/open_cv/dnn/yolo5/models/yolov5s.onnx\"\n",
    ")\n",
    "IMAGE_PATH = \"/home/user/projects/blog/examples/nvidia/tensorrt_demos/turkish_coffee.jpg\"\n",
    "engine, context = build_engine(ONNX_FILE_PATH)\n",
    "for binding in engine:\n",
    "    if engine.binding_is_input(binding):\n",
    "        input_shape = engine.get_binding_shape(binding)\n",
    "        input_size = (\n",
    "            trt.volume(input_shape)\n",
    "            * engine.max_batch_size\n",
    "            * np.dtype(np.float32).itemsize\n",
    "        )\n",
    "        device_input = cuda.mem_alloc(input_size)\n",
    "    else:\n",
    "        output_shape = engine.get_binding_shape(binding)\n",
    "        host_output = cuda.pagelocked_empty(\n",
    "            trt.volume(output_shape) * engine.max_batch_size, dtype=np.float32\n",
    "        )\n",
    "        device_output = cuda.mem_alloc(host_output.nbytes)\n",
    "    # Create a stream in which to copy inputs/outputs and run inference.\n",
    "    stream = cuda.Stream()\n",
    "\n",
    "    # preprocess input data\n",
    "    host_input = frame = cv2.imread(IMAGE_PATH)\n",
    "    cuda.memcpy_htod_async(device_input, host_input, stream)\n",
    "\n",
    "    # run inference\n",
    "    context.execute_async(\n",
    "        bindings=[int(device_input), int(device_output)], stream_handle=stream.handle\n",
    "    )\n",
    "    cuda.memcpy_dtoh_async(host_output, device_output, stream)\n",
    "    stream.synchronize()\n",
    "\n",
    "\n"
   ]
  }
 ],
 "metadata": {
  "interpreter": {
   "hash": "916dbcbb3f70747c44a77c7bcd40155683ae19c65e1c03b4aa3499c5328201f1"
  },
  "kernelspec": {
   "display_name": "Python 3.8.10 64-bit",
   "language": "python",
   "name": "python3"
  },
  "language_info": {
   "codemirror_mode": {
    "name": "ipython",
    "version": 3
   },
   "file_extension": ".py",
   "mimetype": "text/x-python",
   "name": "python",
   "nbconvert_exporter": "python",
   "pygments_lexer": "ipython3",
   "version": "3.8.10"
  },
  "orig_nbformat": 4
 },
 "nbformat": 4,
 "nbformat_minor": 2
}
